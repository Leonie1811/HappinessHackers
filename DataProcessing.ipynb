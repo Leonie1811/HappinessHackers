{
  "nbformat": 4,
  "nbformat_minor": 0,
  "metadata": {
    "colab": {
      "provenance": [],
      "include_colab_link": true
    },
    "kernelspec": {
      "name": "python3",
      "display_name": "Python 3"
    },
    "language_info": {
      "name": "python"
    }
  },
  "cells": [
    {
      "cell_type": "markdown",
      "metadata": {
        "id": "view-in-github",
        "colab_type": "text"
      },
      "source": [
        "<a href=\"https://colab.research.google.com/github/TheoLequy/HappinessHackers/blob/main/DataProcessing.ipynb\" target=\"_parent\"><img src=\"https://colab.research.google.com/assets/colab-badge.svg\" alt=\"Open In Colab\"/></a>"
      ]
    },
    {
      "cell_type": "code",
      "source": [
        "!rm /content/sample_data/HappinessHackers -r"
      ],
      "metadata": {
        "id": "fELLMEkA6oR4"
      },
      "execution_count": 36,
      "outputs": []
    },
    {
      "cell_type": "code",
      "source": [
        "# Clone the github repo with all the data\n",
        "%cd /content\n",
        "\n",
        "!git clone https://github.com/TheoLequy/HappinessHackers.git\n",
        "\n",
        "# Change to this directory\n",
        "%cd HappinessHackers/data\n",
        "\n",
        "# List the files\n",
        "!ls"
      ],
      "metadata": {
        "colab": {
          "base_uri": "https://localhost:8080/"
        },
        "id": "k9cpF37Y0Ilf",
        "outputId": "291bca77-209c-4b33-affd-b82964bda271"
      },
      "execution_count": 37,
      "outputs": [
        {
          "output_type": "stream",
          "name": "stdout",
          "text": [
            "/content\n",
            "Cloning into 'HappinessHackers'...\n",
            "remote: Enumerating objects: 142, done.\u001b[K\n",
            "remote: Counting objects: 100% (142/142), done.\u001b[K\n",
            "remote: Compressing objects: 100% (138/138), done.\u001b[K\n",
            "remote: Total 142 (delta 74), reused 0 (delta 0), pack-reused 0\u001b[K\n",
            "Receiving objects: 100% (142/142), 4.70 MiB | 3.97 MiB/s, done.\n",
            "Resolving deltas: 100% (74/74), done.\n",
            "/content/HappinessHackers/data\n",
            "average-monthly-surface-temperature.csv\n",
            "average-precipitation-per-year.csv\n",
            "covid-excess-deaths-daily-per-100k-economist.csv\n",
            "death-rate-from-suicides-gho.csv\n",
            "death-rate-in-armed-conflicts.csv\n",
            "economic-inequality-gini-index.csv\n",
            "gdp-pcap-ppp-const2017usd.csv\n",
            "happiness-cantril-ladder.csv\n",
            "human-development-index.csv\n",
            "human-rights-index-vdem.csv\n",
            "individual-liberties-and-equality-before-the-law-index.csv\n",
            "learning-adjusted-years-of-school-lays.csv\n",
            "life-expectancy.csv\n",
            "share-deaths-air-pollution.csv\n",
            "share-of-people-who-say-that-family-is-very-important-to-them-in-life.csv\n",
            "share-of-population-urban.csv\n",
            "share-of-population-with-severe-food-insecurity.csv\n",
            "tax-revenues-as-a-share-of-gdp-unu-wider.csv\n",
            "test.py\n",
            "ti-corruption-perception-index.csv\n"
          ]
        }
      ]
    },
    {
      "cell_type": "code",
      "source": [
        "from google.colab import drive\n",
        "drive.mount('/content/drive')"
      ],
      "metadata": {
        "id": "bUGlIlVs7Yzj"
      },
      "execution_count": null,
      "outputs": []
    },
    {
      "cell_type": "code",
      "execution_count": 38,
      "metadata": {
        "colab": {
          "base_uri": "https://localhost:8080/"
        },
        "id": "fMFAInUGz-qG",
        "outputId": "e7e14a11-1f54-46ef-a9df-ef5b9e476d4d"
      },
      "outputs": [
        {
          "output_type": "stream",
          "name": "stdout",
          "text": [
            "./gdp-pcap-ppp-const2017usd.csv\n",
            "Index(['Country Name', 'Country Code', 'Indicator Name', 'Indicator Code',\n",
            "       '1960', '1961', '1962', '1963', '1964', '1965', '1966', '1967', '1968',\n",
            "       '1969', '1970', '1971', '1972', '1973', '1974', '1975', '1976', '1977',\n",
            "       '1978', '1979', '1980', '1981', '1982', '1983', '1984', '1985', '1986',\n",
            "       '1987', '1988', '1989', '1990', '1991', '1992', '1993', '1994', '1995',\n",
            "       '1996', '1997', '1998', '1999', '2000', '2001', '2002', '2003', '2004',\n",
            "       '2005', '2006', '2007', '2008', '2009', '2010', '2011', '2012', '2013',\n",
            "       '2014', '2015', '2016', '2017', '2018', '2019', '2020', '2021', '2022',\n",
            "       '2023', 'Unnamed: 68'],\n",
            "      dtype='object')\n",
            "./share-of-population-urban.csv\n",
            "Index(['Entity', 'Code', 'Year', 'urbanization'], dtype='object')\n",
            "./ti-corruption-perception-index.csv\n",
            "Index(['Entity', 'Code', 'Year', 'corruption'], dtype='object')\n",
            "./share-of-population-with-severe-food-insecurity.csv\n",
            "Index(['Entity', 'Code', 'Year', 'food_insec'], dtype='object')\n",
            "./tax-revenues-as-a-share-of-gdp-unu-wider.csv\n",
            "Index(['Entity', 'Code', 'Year', 'tax'], dtype='object')\n",
            "./individual-liberties-and-equality-before-the-law-index.csv\n",
            "Index(['Entity', 'Code', 'Year', 'indiv_libs'], dtype='object')\n",
            "./learning-adjusted-years-of-school-lays.csv\n",
            "Index(['Entity', 'Code', 'Year', 'school'], dtype='object')\n",
            "./life-expectancy.csv\n",
            "Index(['Entity', 'Code', 'Year', 'life_expect'], dtype='object')\n",
            "./average-monthly-surface-temperature.csv\n",
            "Index(['Entity', 'Code', 'year', 'Day', 'monthly temperature', 'temperature'], dtype='object')\n",
            "./human-rights-index-vdem.csv\n",
            "Index(['Entity', 'Code', 'Year', 'hri'], dtype='object')\n",
            "./death-rate-from-suicides-gho.csv\n",
            "Index(['Entity', 'Code', 'Year', 'suicides'], dtype='object')\n",
            "./share-of-people-who-say-that-family-is-very-important-to-them-in-life.csv\n",
            "Index(['Entity', 'Code', 'Year', 'family', 'Continent'], dtype='object')\n",
            "./happiness-cantril-ladder.csv\n",
            "Index(['Entity', 'Code', 'Year', 'happiness'], dtype='object')\n",
            "./covid-excess-deaths-daily-per-100k-economist.csv\n",
            "Index(['Entity', 'Code', 'Day', 'covid',\n",
            "       'estimated_daily_excess_deaths_ci_95_top_per_100k',\n",
            "       'estimated_daily_excess_deaths_ci_95_bot_per_100k'],\n",
            "      dtype='object')\n",
            "./death-rate-in-armed-conflicts.csv\n",
            "Index(['Entity', 'Code', 'Year', 'war'], dtype='object')\n",
            "./human-development-index.csv\n",
            "Index(['Entity', 'Code', 'Year', 'hdi'], dtype='object')\n",
            "./average-precipitation-per-year.csv\n",
            "Index(['Entity', 'Code', 'Year', ' rain'], dtype='object')\n",
            "./share-deaths-air-pollution.csv\n",
            "Index(['Entity', 'Code', 'Year', 'air_pollution'], dtype='object')\n",
            "./economic-inequality-gini-index.csv\n",
            "Index(['Entity', 'Code', 'Year', 'gini'], dtype='object')\n"
          ]
        }
      ],
      "source": [
        "import pandas as pd\n",
        "import os\n",
        "# Change to this directory\n",
        "\n",
        "# Define the directory containing your files\n",
        "data_directory = './'  # Change this to your data folder path\n",
        "\n",
        "# List all CSV files in the directory\n",
        "file_paths = [os.path.join(data_directory, filename) for filename in os.listdir(data_directory) if filename.endswith('.csv')]\n",
        "\n",
        "# Read all CSV files into DataFrames and store them in a list\n",
        "dataframes = []\n",
        "for file_path in file_paths:\n",
        "  print(file_path)\n",
        "  df = pd.read_csv(file_path)\n",
        "  print(df.columns)"
      ]
    },
    {
      "cell_type": "code",
      "source": [
        "import pandas as pd\n",
        "from functools import reduce\n",
        "\n",
        "def load_allowed_countries(file_path):\n",
        "    try:\n",
        "        df = pd.read_csv(file_path)\n",
        "        df.columns = [col.strip().lower() for col in df.columns]\n",
        "        allowed_countries = df[df['year'] == 2018]['entity'].unique()\n",
        "        return set(allowed_countries)\n",
        "    except Exception as e:\n",
        "        print(f\"Failed to load allowed countries from {file_path}: {e}\")\n",
        "        return set()\n",
        "\n",
        "def process_csv(file_path):\n",
        "    try:\n",
        "        if file_path == \"./gdp-pcap-ppp-const2017usd.csv\":\n",
        "          df = pd.read_csv(file_path, skiprows=4)\n",
        "          df = df.drop(columns=['Indicator Name', 'Indicator Code', 'Unnamed: 68'])\n",
        "          id_cols = [\"Country Name\", \"Country Code\"]\n",
        "          df = pd.melt(df, id_vars=id_cols, var_name='year', value_name='GDPPC')\n",
        "          df = df.rename(columns={\"Country Name\": \"entity\", \"Country Code\": \"code\"})\n",
        "        else:\n",
        "          df = pd.read_csv(file_path)\n",
        "\n",
        "        if file_path == \"./average-monthly-surface-temperature.csv\":\n",
        "          df.columns = ['entity', 'code', 'year', 'date', 'monthly temp', 'yearly temp']\n",
        "          df = df.drop(columns=['date', 'monthly temp'])\n",
        "          df = df.drop_duplicates(subset=['entity', 'code', 'year'])\n",
        "\n",
        "        # Standardize column names\n",
        "        df.columns = [col.strip().lower() for col in df.columns]\n",
        "\n",
        "        # Check if required columns are present\n",
        "        required_columns = {'entity', 'code', 'year'}\n",
        "        if not required_columns.issubset(set(df.columns)):\n",
        "          print(f\"Skipping {file_path} as it lacks one or more required columns.\")\n",
        "          return None\n",
        "\n",
        "        # convert years to ints\n",
        "        df[\"year\"] = df[\"year\"].astype(int)\n",
        "\n",
        "        # Filter data for the year 2018\n",
        "        df = df[df['year'] == 2018]\n",
        "        if df.empty:\n",
        "            print(f\"Warning: No data for 2018 in {file_path}.\")\n",
        "            return None\n",
        "\n",
        "        df = df[df['entity'].isin(allowed_countries)]\n",
        "        # Select relevant columns, focusing on essentials and avoiding duplication of 'entity'\n",
        "        df = df[['entity'] + [col for col in df.columns if col not in {'year', 'entity', 'code'}]]\n",
        "\n",
        "        # Group by 'entity' and average the values if there are duplicates\n",
        "        if df.duplicated('entity').any():\n",
        "            df = df.groupby('entity').mean().reset_index()\n",
        "\n",
        "        print(f\"Processed {file_path}.\")\n",
        "        return df\n",
        "\n",
        "    except Exception as e:\n",
        "        print(f\"Failed to process {file_path}: {e}\")\n",
        "        return None\n",
        "\n",
        "def merge_dataframes(dataframes):\n",
        "    # Merge all DataFrames on 'entity'\n",
        "    if dataframes:\n",
        "        base_df = dataframes[0]\n",
        "        for df in dataframes[1:]:\n",
        "            base_df = pd.merge(base_df, df, on='entity', how='outer')\n",
        "        return base_df\n",
        "    else:\n",
        "        return pd.DataFrame()\n",
        "\n",
        "\n",
        "# Load the allowed countries from a specific dataset\n",
        "happiness_file_path = './happiness-cantril-ladder.csv'\n",
        "allowed_countries = load_allowed_countries(happiness_file_path)\n",
        "\n",
        "\n",
        "# Process each CSV file and remove None entries from the list\n",
        "processed_dataframes = [df for df in [process_csv(f) for f in file_paths] if df is not None]\n",
        "\n",
        "for processed_dataframe in processed_dataframes:\n",
        "  print(len(processed_dataframe), processed_dataframe.columns)\n",
        "\n",
        "# Merge all dataframes\n",
        "all_data = merge_dataframes(processed_dataframes)\n",
        "\n",
        "if not all_data.empty:\n",
        "    # rename the columns\n",
        "    # all_data.columns = ['entity', 'food_insec', 'precipitation', 'indiv_free', 'happiness', 'gini', 'hdi', 'gdp_pc', 'corruption', 'air_deaths', 'life_expectancy', 'temperature', 'urbanization', 'hri', 'suicides', 'taxes', 'schooling']\n",
        "\n",
        "    # Save the result into a new CSV file\n",
        "    output_filename = 'final_dataset_2018.csv'\n",
        "    all_data.to_csv(output_filename, index=False)  # Don't write row indices\n",
        "    print(\"Data processing and merging complete.\")\n",
        "else:\n",
        "    print(\"No data to process.\")\n"
      ],
      "metadata": {
        "colab": {
          "base_uri": "https://localhost:8080/"
        },
        "id": "jkUvZcJa26Gn",
        "outputId": "cd4395c1-61b4-4768-eed2-a278d846c2d7"
      },
      "execution_count": null,
      "outputs": [
        {
          "output_type": "stream",
          "name": "stdout",
          "text": [
            "Processed ./gdp-pcap-ppp-const2017usd.csv.\n",
            "Processed ./share-of-population-urban.csv.\n",
            "Processed ./ti-corruption-perception-index.csv.\n",
            "Processed ./share-of-population-with-severe-food-insecurity.csv.\n",
            "Processed ./tax-revenues-as-a-share-of-gdp-unu-wider.csv.\n",
            "Processed ./individual-liberties-and-equality-before-the-law-index.csv.\n",
            "Processed ./learning-adjusted-years-of-school-lays.csv.\n",
            "Processed ./life-expectancy.csv.\n",
            "Processed ./average-monthly-surface-temperature.csv.\n",
            "Processed ./human-rights-index-vdem.csv.\n",
            "Processed ./death-rate-from-suicides-gho.csv.\n",
            "Warning: No data for 2018 in ./share-of-people-who-say-that-family-is-very-important-to-them-in-life.csv.\n",
            "Processed ./happiness-cantril-ladder.csv.\n",
            "Skipping ./covid-excess-deaths-daily-per-100k-economist.csv as it lacks one or more required columns.\n",
            "Processed ./human-development-index.csv.\n",
            "Processed ./average-precipitation-per-year.csv.\n",
            "Skipping ./final_dataset.csv as it lacks one or more required columns.\n",
            "Processed ./share-deaths-air-pollution.csv.\n",
            "Processed ./economic-inequality-gini-index.csv.\n",
            "Skipping ./final_dataset_2018.csv as it lacks one or more required columns.\n",
            "137 Index(['entity', 'gdppc'], dtype='object')\n",
            "153 Index(['entity', 'urban population (% of total population)'], dtype='object')\n",
            "154 Index(['entity', 'corruption perception index - transparency international (2018)'], dtype='object')\n",
            "114 Index(['entity', 'prevalence of severe food insecurity in the total population (percent) (3-year average) | 00210401 || value | 006121 || percent'], dtype='object')\n",
            "135 Index(['entity', 'taxes including social contributions (as a share of gdp)'], dtype='object')\n",
            "154 Index(['entity', 'indiv_libs_vdem_owid'], dtype='object')\n",
            "144 Index(['entity', 'learning-adjusted years of school'], dtype='object')\n",
            "155 Index(['entity', 'period life expectancy at birth - sex: all - age: 0'], dtype='object')\n",
            "152 Index(['entity', 'yearly temp'], dtype='object')\n",
            "154 Index(['entity', 'civ_libs_vdem_owid'], dtype='object')\n",
            "151 Index(['entity', 'age-standardized suicide rate - sex: both sexes'], dtype='object')\n",
            "156 Index(['entity', 'cantril ladder score'], dtype='object')\n",
            "152 Index(['entity', 'human development index'], dtype='object')\n",
            "150 Index(['entity', 'average precipitation in depth (mm per year)'], dtype='object')\n",
            "153 Index(['entity', 'share of total deaths that are from all causes attributed to air pollution, in both sexes aged age-standardized'], dtype='object')\n",
            "83 Index(['entity', 'gini coefficient'], dtype='object')\n",
            "Data processing and merging complete.\n"
          ]
        }
      ]
    },
    {
      "cell_type": "code",
      "source": [
        "df = pd.read_csv('final_dataset_2018.csv')\n",
        "# df.columns = ['entity', 'food_insec', 'precipitation', 'individual_liberties', 'happiness', 'gini', 'hdi', 'gdp_pc', 'corruption', 'air_deaths', 'life_expectancy', 'temperature', 'urbanization', 'individual_liberties', 'suicides', 'taxes', 'schooling']\n",
        "df.columns"
      ],
      "metadata": {
        "colab": {
          "base_uri": "https://localhost:8080/"
        },
        "id": "ukoKvwbKpZnz",
        "outputId": "2903368a-e6a0-4c29-e38c-2d6760c623ba"
      },
      "execution_count": null,
      "outputs": [
        {
          "output_type": "execute_result",
          "data": {
            "text/plain": [
              "Index(['entity', 'gdppc', 'urban population (% of total population)',\n",
              "       'corruption perception index - transparency international (2018)',\n",
              "       'prevalence of severe food insecurity in the total population (percent) (3-year average) | 00210401 || value | 006121 || percent',\n",
              "       'taxes including social contributions (as a share of gdp)',\n",
              "       'indiv_libs_vdem_owid', 'learning-adjusted years of school',\n",
              "       'period life expectancy at birth - sex: all - age: 0', 'yearly temp',\n",
              "       'civ_libs_vdem_owid', 'age-standardized suicide rate - sex: both sexes',\n",
              "       'cantril ladder score', 'human development index',\n",
              "       'average precipitation in depth (mm per year)',\n",
              "       'share of total deaths that are from all causes attributed to air pollution, in both sexes aged age-standardized',\n",
              "       'gini coefficient'],\n",
              "      dtype='object')"
            ]
          },
          "metadata": {},
          "execution_count": 4
        }
      ]
    },
    {
      "cell_type": "code",
      "source": [
        "# for multiple years\n",
        "\n",
        "# Load the base data set\n",
        "happiness_file_path = './happiness-cantril-ladder.csv'\n",
        "data = pd.read_csv('./happiness-cantril-ladder.csv')\n",
        "data = data.drop(columns='Entity')\n",
        "data.columns = ['code', 'year', 'happiness']\n",
        "\n",
        "data_directory = './'\n",
        "file_paths = [os.path.join(data_directory, filename) for filename in os.listdir(data_directory) if filename.endswith('.csv')]\n",
        "file_paths.remove(happiness_file_path)\n",
        "# file_paths.remove(\"./final_dataset_2018.csv\")\n",
        "# file_paths.remove(\"./final_dataset.csv\")\n",
        "\n",
        "for file_path in file_paths:\n",
        "    try:\n",
        "        if file_path == \"./gdp-pcap-ppp-const2017usd.csv\":\n",
        "          df = pd.read_csv(file_path, skiprows=4)\n",
        "          df = df.drop(columns=['Indicator Name', 'Indicator Code', 'Unnamed: 68'])\n",
        "          id_cols = [\"Country Name\", \"Country Code\"]\n",
        "          df = pd.melt(df, id_vars=id_cols, var_name='year', value_name='GDPPC')\n",
        "          df = df.rename(columns={\"Country Name\": \"entity\", \"Country Code\": \"code\"})\n",
        "        else:\n",
        "          df = pd.read_csv(file_path)\n",
        "\n",
        "        if file_path == \"./share-of-people-who-say-that-family-is-very-important-to-them-in-life.csv\":\n",
        "          df = df.drop(columns='Continent')\n",
        "\n",
        "        if file_path == \"./covid-excess-deaths-daily-per-100k-economist.csv\":\n",
        "          df['Day'] = pd.to_datetime(df['Day']).dt.year\n",
        "          df = df.rename(columns={'Day': 'year'})\n",
        "          df = df.drop(columns=['estimated_daily_excess_deaths_ci_95_top_per_100k', 'estimated_daily_excess_deaths_ci_95_bot_per_100k'])\n",
        "\n",
        "\n",
        "        if file_path == \"./average-monthly-surface-temperature.csv\":\n",
        "          df.columns = ['entity', 'code', 'year', 'date', 'monthly temp', 'yearly temp']\n",
        "          df = df.drop(columns=['date', 'monthly temp'])\n",
        "          df = df.drop_duplicates(subset=['entity', 'code', 'year'])\n",
        "\n",
        "        # Standardize column names\n",
        "        df.columns = [col.strip().lower() for col in df.columns]\n",
        "\n",
        "        # Check if required columns are present\n",
        "        required_columns = {'code', 'year'}\n",
        "        if not required_columns.issubset(set(df.columns)):\n",
        "          print(f\"Skipping {file_path} as it lacks one or more required columns.\")\n",
        "          continue\n",
        "\n",
        "        # convert years to ints\n",
        "        df[\"year\"] = df[\"year\"].astype(int)\n",
        "\n",
        "        if 'entity' in df.columns:\n",
        "          df = df.drop(columns='entity')\n",
        "\n",
        "        # Group by 'entity' and average the values if there are duplicates\n",
        "        if df.duplicated(subset=['code', 'year']).any():\n",
        "            df = df.groupby(['code', 'year']).mean().reset_index()\n",
        "\n",
        "        data = pd.merge(data, df, on=['code', 'year'], how='left')\n",
        "\n",
        "        print(f\"Processed {file_path}: {len(df.columns)}, {df.columns}\")\n",
        "\n",
        "    except Exception as e:\n",
        "        print(f\"Failed to process {file_path}: {e}\")\n",
        "        continue\n",
        "\n",
        "\n",
        "data.head()\n",
        "\n",
        "if not data.empty:\n",
        "    \"\"\"\n",
        "    # rename the columns\n",
        "    #data.columns = ['code', 'year', 'happiness', 'food_insec', 'precipitation',\n",
        "    #                'indiv_free', 'gini', 'hdi', 'gdp_pc', 'family', 'corruption',\n",
        "    #                'air_deaths', 'life_expectancy', 'temperature', 'urbanization',\n",
        "    #                'covid', 'hri', 'suicides', 'taxes', 'schooling']\n",
        "    data.columns = ['code', 'year', 'happiness', 'gdp_pc', 'urbanization',\n",
        "                    'corruption', 'food_insec', 'taxes', 'indiv_free', 'schooling',\n",
        "                    'life_expectancy', 'temperature', 'hri',\n",
        "                    'suicides', 'family', 'covid',\n",
        "                    'hdi', 'precipitation', 'air_deaths', 'gini']\n",
        "\n",
        "\n",
        "    ['code' 'year' 'happiness' 'gdppc'\n",
        "    'urban population (% of total population)'\n",
        "    'corruption perception index - transparency international (2018)'\n",
        "    'prevalence of severe food insecurity in the total population (percent) (3-year average) | 00210401 || value | 006121 || percent'\n",
        "    'taxes including social contributions (as a share of gdp)'\n",
        "    'indiv_libs_vdem_owid'\n",
        "    'learning-adjusted years of school'\n",
        "    'period life expectancy at birth - sex: all - age: 0'\n",
        "    'yearly temp'\n",
        "    'civ_libs_vdem_owid'\n",
        "    'age-standardized suicide rate - sex: both sexes'\n",
        "    'very important in life: family'\n",
        "    'estimated_daily_excess_deaths_per_100k'\n",
        "    'human development index'\n",
        "    'average precipitation in depth (mm per year)'\n",
        "    'share of total deaths that are from all causes attributed to air pollution, in both sexes aged age-standardized'\n",
        "    'gini coefficient']\n",
        "    \"\"\"\n",
        "    # Save the result into a new CSV file\n",
        "    output_filename = '../final_dataset_raw.csv'\n",
        "    data.to_csv(output_filename, index=False)\n",
        "\n",
        "    # Group by 'code' and calculate the average for other columns\n",
        "    data['covid'] = data['covid'].fillna(0)\n",
        "    country_avg = data.groupby('code').transform(lambda x: x.fillna(round(x.mean(),3)))\n",
        "    # Fill missing values in the original DataFrame with the calculated averages\n",
        "    data_filled = data.combine_first(country_avg)\n",
        "\n",
        "    # reorder the columns\n",
        "    data_filled = data_filled[data.columns]\n",
        "    # Save the result into a new CSV file\n",
        "    output_filename = '../final_dataset_filled.csv'\n",
        "    data_filled.to_csv(output_filename, index=False)\n",
        "    print(\"Data processing and merging complete.\")\n",
        "else:\n",
        "    print(\"No data to process.\")\n"
      ],
      "metadata": {
        "id": "5ZFkfbU79IM-",
        "colab": {
          "base_uri": "https://localhost:8080/"
        },
        "outputId": "25cdac59-33f1-4e06-f8e1-e80cb8f46376"
      },
      "execution_count": 47,
      "outputs": [
        {
          "output_type": "stream",
          "name": "stdout",
          "text": [
            "Failed to process ./gdp-pcap-ppp-const2017usd.csv: \"['Indicator Name', 'Indicator Code'] not found in axis\"\n",
            "Processed ./share-of-population-urban.csv: 3, Index(['code', 'year', 'urbanization'], dtype='object')\n",
            "Processed ./ti-corruption-perception-index.csv: 3, Index(['code', 'year', 'corruption'], dtype='object')\n",
            "Processed ./share-of-population-with-severe-food-insecurity.csv: 3, Index(['code', 'year', 'food_insec'], dtype='object')\n",
            "Processed ./tax-revenues-as-a-share-of-gdp-unu-wider.csv: 3, Index(['code', 'year', 'tax'], dtype='object')\n",
            "Processed ./individual-liberties-and-equality-before-the-law-index.csv: 3, Index(['code', 'year', 'indiv_libs'], dtype='object')\n",
            "Processed ./learning-adjusted-years-of-school-lays.csv: 3, Index(['code', 'year', 'school'], dtype='object')\n",
            "Processed ./life-expectancy.csv: 3, Index(['code', 'year', 'life_expect'], dtype='object')\n",
            "Processed ./average-monthly-surface-temperature.csv: 3, Index(['code', 'year', 'yearly temp'], dtype='object')\n",
            "Processed ./human-rights-index-vdem.csv: 3, Index(['code', 'year', 'hri'], dtype='object')\n",
            "Processed ./death-rate-from-suicides-gho.csv: 3, Index(['code', 'year', 'suicides'], dtype='object')\n",
            "Processed ./share-of-people-who-say-that-family-is-very-important-to-them-in-life.csv: 3, Index(['code', 'year', 'family'], dtype='object')\n",
            "Processed ./covid-excess-deaths-daily-per-100k-economist.csv: 3, Index(['code', 'year', 'covid'], dtype='object')\n",
            "Processed ./death-rate-in-armed-conflicts.csv: 3, Index(['code', 'year', 'war'], dtype='object')\n",
            "Processed ./human-development-index.csv: 3, Index(['code', 'year', 'hdi'], dtype='object')\n",
            "Processed ./average-precipitation-per-year.csv: 3, Index(['code', 'year', 'rain'], dtype='object')\n",
            "Processed ./share-deaths-air-pollution.csv: 3, Index(['code', 'year', 'air_pollution'], dtype='object')\n",
            "Processed ./economic-inequality-gini-index.csv: 3, Index(['code', 'year', 'gini'], dtype='object')\n",
            "Data processing and merging complete.\n"
          ]
        }
      ]
    },
    {
      "cell_type": "code",
      "source": [
        "print(data.columns.values)"
      ],
      "metadata": {
        "colab": {
          "base_uri": "https://localhost:8080/"
        },
        "id": "lmknDiZ2sAAt",
        "outputId": "014c2152-ada5-4e7a-fc97-cf48d6c812dc"
      },
      "execution_count": null,
      "outputs": [
        {
          "output_type": "stream",
          "name": "stdout",
          "text": [
            "['code' 'year' 'happiness' 'gdppc_x'\n",
            " 'urban population (% of total population)_x'\n",
            " 'corruption perception index - transparency international (2018)_x'\n",
            " 'prevalence of severe food insecurity in the total population (percent) (3-year average) | 00210401 || value | 006121 || percent_x'\n",
            " 'taxes including social contributions (as a share of gdp)_x'\n",
            " 'indiv_libs_vdem_owid_x' 'learning-adjusted years of school_x'\n",
            " 'period life expectancy at birth - sex: all - age: 0_x' 'yearly temp_x'\n",
            " 'civ_libs_vdem_owid_x'\n",
            " 'age-standardized suicide rate - sex: both sexes_x'\n",
            " 'very important in life: family_x'\n",
            " 'estimated_daily_excess_deaths_per_100k_x' 'human development index_x'\n",
            " 'average precipitation in depth (mm per year)_x' 'happiness_x' 'gdppc_y'\n",
            " 'urban population (% of total population)_y'\n",
            " 'corruption perception index - transparency international (2018)_y'\n",
            " 'prevalence of severe food insecurity in the total population (percent) (3-year average) | 00210401 || value | 006121 || percent_y'\n",
            " 'taxes including social contributions (as a share of gdp)_y'\n",
            " 'indiv_libs_vdem_owid_y' 'learning-adjusted years of school_y'\n",
            " 'period life expectancy at birth - sex: all - age: 0_y' 'yearly temp_y'\n",
            " 'civ_libs_vdem_owid_y'\n",
            " 'age-standardized suicide rate - sex: both sexes_y'\n",
            " 'very important in life: family_y'\n",
            " 'estimated_daily_excess_deaths_per_100k_y' 'human development index_y'\n",
            " 'average precipitation in depth (mm per year)_y' 'happiness_y' 'gdp_pc'\n",
            " 'urbanization' 'corruption' 'food_insec' 'taxes' 'indiv_free' 'schooling'\n",
            " 'life_expectancy' 'temperature' 'hri' 'suicides' 'family' 'covid' 'hdi'\n",
            " 'precipitation' 'air_deaths' 'gini'\n",
            " 'share of total deaths that are from all causes attributed to air pollution, in both sexes aged age-standardized_x'\n",
            " 'gini coefficient_x'\n",
            " 'share of total deaths that are from all causes attributed to air pollution, in both sexes aged age-standardized_y'\n",
            " 'gini coefficient_y']\n"
          ]
        }
      ]
    },
    {
      "cell_type": "code",
      "source": [
        "print(data.columns.values)\n",
        "print(data.shape)"
      ],
      "metadata": {
        "colab": {
          "base_uri": "https://localhost:8080/"
        },
        "id": "8Ml5HBIAk9ZK",
        "outputId": "b7859e93-93d9-421a-9deb-4faca14689f1"
      },
      "execution_count": null,
      "outputs": [
        {
          "output_type": "stream",
          "name": "stdout",
          "text": [
            "['code' 'year' 'happiness_x' 'gdppc'\n",
            " 'urban population (% of total population)'\n",
            " 'corruption perception index - transparency international (2018)'\n",
            " 'prevalence of severe food insecurity in the total population (percent) (3-year average) | 00210401 || value | 006121 || percent'\n",
            " 'taxes including social contributions (as a share of gdp)'\n",
            " 'indiv_libs_vdem_owid' 'learning-adjusted years of school'\n",
            " 'period life expectancy at birth - sex: all - age: 0' 'yearly temp'\n",
            " 'civ_libs_vdem_owid' 'age-standardized suicide rate - sex: both sexes'\n",
            " 'very important in life: family' 'estimated_daily_excess_deaths_per_100k'\n",
            " 'human development index' 'average precipitation in depth (mm per year)'\n",
            " 'happiness_y' 'gdp_pc' 'urbanization' 'corruption' 'food_insec' 'taxes'\n",
            " 'indiv_free' 'schooling' 'life_expectancy' 'temperature' 'hri' 'suicides'\n",
            " 'family' 'covid' 'hdi' 'precipitation' 'air_deaths' 'gini'\n",
            " 'share of total deaths that are from all causes attributed to air pollution, in both sexes aged age-standardized'\n",
            " 'gini coefficient']\n",
            "(1523, 38)\n"
          ]
        }
      ]
    },
    {
      "cell_type": "code",
      "source": [
        "from time import perf_counter\n",
        "file_path = '/content/happiness-hacking/ourworldindata/covid-excess-deaths-daily-per-100k-economist.csv'\n",
        "\n",
        "df = pd.read_csv(file_path)\n",
        "\n",
        "time1 = perf_counter()\n",
        "df['Day'] = pd.to_datetime(df['Day']).dt.year\n",
        "time2 = perf_counter()\n",
        "\n",
        "df = df.rename(columns={'Day': 'year'})\n",
        "df = df.drop(columns = ['estimated_daily_excess_deaths_ci_95_top_per_100k', 'estimated_daily_excess_deaths_ci_95_bot_per_100k'])\n",
        "\n",
        "average_temps_df = df.groupby(['Entity', 'year'])['estimated_daily_excess_deaths_per_100k'].mean().reset_index()\n",
        "\n",
        "print(average_temps_df)\n",
        "time2-time1"
      ],
      "metadata": {
        "colab": {
          "base_uri": "https://localhost:8080/"
        },
        "id": "Grgtu1Kl4Nv9",
        "outputId": "f0e83d38-20a9-4bbb-cfac-b12a30996848"
      },
      "execution_count": null,
      "outputs": [
        {
          "output_type": "stream",
          "name": "stdout",
          "text": [
            "           Entity  year  estimated_daily_excess_deaths_per_100k\n",
            "0     Afghanistan  2020                                0.178229\n",
            "1     Afghanistan  2021                                0.282519\n",
            "2     Afghanistan  2022                                0.250676\n",
            "3     Afghanistan  2023                                0.156752\n",
            "4     Afghanistan  2024                                0.129409\n",
            "...           ...   ...                                     ...\n",
            "1180     Zimbabwe  2020                                0.201667\n",
            "1181     Zimbabwe  2021                                0.635533\n",
            "1182     Zimbabwe  2022                                0.338414\n",
            "1183     Zimbabwe  2023                                0.108688\n",
            "1184     Zimbabwe  2024                               -0.004235\n",
            "\n",
            "[1185 rows x 3 columns]\n"
          ]
        },
        {
          "output_type": "execute_result",
          "data": {
            "text/plain": [
              "0.012259150999852864"
            ]
          },
          "metadata": {},
          "execution_count": 8
        }
      ]
    },
    {
      "cell_type": "code",
      "source": [],
      "metadata": {
        "id": "Aev6Xr9Lk7EH"
      },
      "execution_count": null,
      "outputs": []
    },
    {
      "cell_type": "code",
      "source": [
        "# import numpy as np\n",
        "# df = pd.DataFrame({'code': ['a','a','a','b','b','b','c'], 'val': [1,2,np.nan, np.nan, np.nan, np.nan, 3]})\n",
        "# country_avg = df.groupby('code').transform(lambda x: x.fillna(x.mean()))\n",
        "# # Fill missing values in the original DataFrame with the calculated averages\n",
        "# data_filled = data.combine_first(country_avg)"
      ],
      "metadata": {
        "id": "thzUnZVH7QDt"
      },
      "execution_count": null,
      "outputs": []
    },
    {
      "cell_type": "code",
      "source": [
        "%cd /\n",
        "%cd content\n",
        "%cp 'happiness-hacking/ourworldindata/final_dataset.csv' 'final_dataset.csv'"
      ],
      "metadata": {
        "colab": {
          "base_uri": "https://localhost:8080/"
        },
        "id": "oZBoBfYb3SX4",
        "outputId": "030b9977-dc70-4bfd-d247-0669f2aaea23"
      },
      "execution_count": null,
      "outputs": [
        {
          "output_type": "stream",
          "name": "stdout",
          "text": [
            "/\n",
            "/content\n",
            "death-rate-in-armed-conflicts.csv  happiness-hacking  sample_data\n"
          ]
        }
      ]
    },
    {
      "cell_type": "code",
      "source": [
        "file_path = 'death-rate-in-armed-conflicts.csv'\n",
        "\n",
        "df_death = pd.read_csv(file_path)\n",
        "df_ds = pd.read_csv(\"final_dataset.csv\")\n",
        "df_death.rename(columns={'Death rate in ongoing conflicts in a country (best estimate) - Conflict type: all': 'deaths'}, inplace=True)\n",
        "\n",
        "df_death.set_index(['Code', 'Year'], inplace=True)\n",
        "df_ds.set_index(['code', 'year'], inplace=True)\n",
        "\n",
        "df_death_reordered = df_death.reindex(df_ds.index)\n",
        "\n",
        "df_ds['death_rate'] = df_death_reordered['deaths']\n",
        "\n",
        "df_ds.to_csv('final_dataset.csv', index=True)\n"
      ],
      "metadata": {
        "id": "2gpuQ3BR3h6H",
        "colab": {
          "base_uri": "https://localhost:8080/",
          "height": 408
        },
        "outputId": "3d7ade24-c722-4a0a-bc79-5d98bef580aa"
      },
      "execution_count": null,
      "outputs": [
        {
          "output_type": "error",
          "ename": "FileNotFoundError",
          "evalue": "[Errno 2] No such file or directory: 'death-rate-in-armed-conflicts.csv'",
          "traceback": [
            "\u001b[0;31m---------------------------------------------------------------------------\u001b[0m",
            "\u001b[0;31mFileNotFoundError\u001b[0m                         Traceback (most recent call last)",
            "\u001b[0;32m<ipython-input-36-87fd213588a2>\u001b[0m in \u001b[0;36m<cell line: 3>\u001b[0;34m()\u001b[0m\n\u001b[1;32m      1\u001b[0m \u001b[0mfile_path\u001b[0m \u001b[0;34m=\u001b[0m \u001b[0;34m'death-rate-in-armed-conflicts.csv'\u001b[0m\u001b[0;34m\u001b[0m\u001b[0;34m\u001b[0m\u001b[0m\n\u001b[1;32m      2\u001b[0m \u001b[0;34m\u001b[0m\u001b[0m\n\u001b[0;32m----> 3\u001b[0;31m \u001b[0mdf_death\u001b[0m \u001b[0;34m=\u001b[0m \u001b[0mpd\u001b[0m\u001b[0;34m.\u001b[0m\u001b[0mread_csv\u001b[0m\u001b[0;34m(\u001b[0m\u001b[0mfile_path\u001b[0m\u001b[0;34m)\u001b[0m\u001b[0;34m\u001b[0m\u001b[0;34m\u001b[0m\u001b[0m\n\u001b[0m\u001b[1;32m      4\u001b[0m \u001b[0mdf_ds\u001b[0m \u001b[0;34m=\u001b[0m \u001b[0mpd\u001b[0m\u001b[0;34m.\u001b[0m\u001b[0mread_csv\u001b[0m\u001b[0;34m(\u001b[0m\u001b[0;34m\"final_dataset.csv\"\u001b[0m\u001b[0;34m)\u001b[0m\u001b[0;34m\u001b[0m\u001b[0;34m\u001b[0m\u001b[0m\n\u001b[1;32m      5\u001b[0m \u001b[0mdf_death\u001b[0m\u001b[0;34m.\u001b[0m\u001b[0mrename\u001b[0m\u001b[0;34m(\u001b[0m\u001b[0mcolumns\u001b[0m\u001b[0;34m=\u001b[0m\u001b[0;34m{\u001b[0m\u001b[0;34m'Death rate in ongoing conflicts in a country (best estimate) - Conflict type: all'\u001b[0m\u001b[0;34m:\u001b[0m \u001b[0;34m'deaths'\u001b[0m\u001b[0;34m}\u001b[0m\u001b[0;34m,\u001b[0m \u001b[0minplace\u001b[0m\u001b[0;34m=\u001b[0m\u001b[0;32mTrue\u001b[0m\u001b[0;34m)\u001b[0m\u001b[0;34m\u001b[0m\u001b[0;34m\u001b[0m\u001b[0m\n",
            "\u001b[0;32m/usr/local/lib/python3.10/dist-packages/pandas/io/parsers/readers.py\u001b[0m in \u001b[0;36mread_csv\u001b[0;34m(filepath_or_buffer, sep, delimiter, header, names, index_col, usecols, dtype, engine, converters, true_values, false_values, skipinitialspace, skiprows, skipfooter, nrows, na_values, keep_default_na, na_filter, verbose, skip_blank_lines, parse_dates, infer_datetime_format, keep_date_col, date_parser, date_format, dayfirst, cache_dates, iterator, chunksize, compression, thousands, decimal, lineterminator, quotechar, quoting, doublequote, escapechar, comment, encoding, encoding_errors, dialect, on_bad_lines, delim_whitespace, low_memory, memory_map, float_precision, storage_options, dtype_backend)\u001b[0m\n\u001b[1;32m    910\u001b[0m     \u001b[0mkwds\u001b[0m\u001b[0;34m.\u001b[0m\u001b[0mupdate\u001b[0m\u001b[0;34m(\u001b[0m\u001b[0mkwds_defaults\u001b[0m\u001b[0;34m)\u001b[0m\u001b[0;34m\u001b[0m\u001b[0;34m\u001b[0m\u001b[0m\n\u001b[1;32m    911\u001b[0m \u001b[0;34m\u001b[0m\u001b[0m\n\u001b[0;32m--> 912\u001b[0;31m     \u001b[0;32mreturn\u001b[0m \u001b[0m_read\u001b[0m\u001b[0;34m(\u001b[0m\u001b[0mfilepath_or_buffer\u001b[0m\u001b[0;34m,\u001b[0m \u001b[0mkwds\u001b[0m\u001b[0;34m)\u001b[0m\u001b[0;34m\u001b[0m\u001b[0;34m\u001b[0m\u001b[0m\n\u001b[0m\u001b[1;32m    913\u001b[0m \u001b[0;34m\u001b[0m\u001b[0m\n\u001b[1;32m    914\u001b[0m \u001b[0;34m\u001b[0m\u001b[0m\n",
            "\u001b[0;32m/usr/local/lib/python3.10/dist-packages/pandas/io/parsers/readers.py\u001b[0m in \u001b[0;36m_read\u001b[0;34m(filepath_or_buffer, kwds)\u001b[0m\n\u001b[1;32m    575\u001b[0m \u001b[0;34m\u001b[0m\u001b[0m\n\u001b[1;32m    576\u001b[0m     \u001b[0;31m# Create the parser.\u001b[0m\u001b[0;34m\u001b[0m\u001b[0;34m\u001b[0m\u001b[0m\n\u001b[0;32m--> 577\u001b[0;31m     \u001b[0mparser\u001b[0m \u001b[0;34m=\u001b[0m \u001b[0mTextFileReader\u001b[0m\u001b[0;34m(\u001b[0m\u001b[0mfilepath_or_buffer\u001b[0m\u001b[0;34m,\u001b[0m \u001b[0;34m**\u001b[0m\u001b[0mkwds\u001b[0m\u001b[0;34m)\u001b[0m\u001b[0;34m\u001b[0m\u001b[0;34m\u001b[0m\u001b[0m\n\u001b[0m\u001b[1;32m    578\u001b[0m \u001b[0;34m\u001b[0m\u001b[0m\n\u001b[1;32m    579\u001b[0m     \u001b[0;32mif\u001b[0m \u001b[0mchunksize\u001b[0m \u001b[0;32mor\u001b[0m \u001b[0miterator\u001b[0m\u001b[0;34m:\u001b[0m\u001b[0;34m\u001b[0m\u001b[0;34m\u001b[0m\u001b[0m\n",
            "\u001b[0;32m/usr/local/lib/python3.10/dist-packages/pandas/io/parsers/readers.py\u001b[0m in \u001b[0;36m__init__\u001b[0;34m(self, f, engine, **kwds)\u001b[0m\n\u001b[1;32m   1405\u001b[0m \u001b[0;34m\u001b[0m\u001b[0m\n\u001b[1;32m   1406\u001b[0m         \u001b[0mself\u001b[0m\u001b[0;34m.\u001b[0m\u001b[0mhandles\u001b[0m\u001b[0;34m:\u001b[0m \u001b[0mIOHandles\u001b[0m \u001b[0;34m|\u001b[0m \u001b[0;32mNone\u001b[0m \u001b[0;34m=\u001b[0m \u001b[0;32mNone\u001b[0m\u001b[0;34m\u001b[0m\u001b[0;34m\u001b[0m\u001b[0m\n\u001b[0;32m-> 1407\u001b[0;31m         \u001b[0mself\u001b[0m\u001b[0;34m.\u001b[0m\u001b[0m_engine\u001b[0m \u001b[0;34m=\u001b[0m \u001b[0mself\u001b[0m\u001b[0;34m.\u001b[0m\u001b[0m_make_engine\u001b[0m\u001b[0;34m(\u001b[0m\u001b[0mf\u001b[0m\u001b[0;34m,\u001b[0m \u001b[0mself\u001b[0m\u001b[0;34m.\u001b[0m\u001b[0mengine\u001b[0m\u001b[0;34m)\u001b[0m\u001b[0;34m\u001b[0m\u001b[0;34m\u001b[0m\u001b[0m\n\u001b[0m\u001b[1;32m   1408\u001b[0m \u001b[0;34m\u001b[0m\u001b[0m\n\u001b[1;32m   1409\u001b[0m     \u001b[0;32mdef\u001b[0m \u001b[0mclose\u001b[0m\u001b[0;34m(\u001b[0m\u001b[0mself\u001b[0m\u001b[0;34m)\u001b[0m \u001b[0;34m->\u001b[0m \u001b[0;32mNone\u001b[0m\u001b[0;34m:\u001b[0m\u001b[0;34m\u001b[0m\u001b[0;34m\u001b[0m\u001b[0m\n",
            "\u001b[0;32m/usr/local/lib/python3.10/dist-packages/pandas/io/parsers/readers.py\u001b[0m in \u001b[0;36m_make_engine\u001b[0;34m(self, f, engine)\u001b[0m\n\u001b[1;32m   1659\u001b[0m                 \u001b[0;32mif\u001b[0m \u001b[0;34m\"b\"\u001b[0m \u001b[0;32mnot\u001b[0m \u001b[0;32min\u001b[0m \u001b[0mmode\u001b[0m\u001b[0;34m:\u001b[0m\u001b[0;34m\u001b[0m\u001b[0;34m\u001b[0m\u001b[0m\n\u001b[1;32m   1660\u001b[0m                     \u001b[0mmode\u001b[0m \u001b[0;34m+=\u001b[0m \u001b[0;34m\"b\"\u001b[0m\u001b[0;34m\u001b[0m\u001b[0;34m\u001b[0m\u001b[0m\n\u001b[0;32m-> 1661\u001b[0;31m             self.handles = get_handle(\n\u001b[0m\u001b[1;32m   1662\u001b[0m                 \u001b[0mf\u001b[0m\u001b[0;34m,\u001b[0m\u001b[0;34m\u001b[0m\u001b[0;34m\u001b[0m\u001b[0m\n\u001b[1;32m   1663\u001b[0m                 \u001b[0mmode\u001b[0m\u001b[0;34m,\u001b[0m\u001b[0;34m\u001b[0m\u001b[0;34m\u001b[0m\u001b[0m\n",
            "\u001b[0;32m/usr/local/lib/python3.10/dist-packages/pandas/io/common.py\u001b[0m in \u001b[0;36mget_handle\u001b[0;34m(path_or_buf, mode, encoding, compression, memory_map, is_text, errors, storage_options)\u001b[0m\n\u001b[1;32m    857\u001b[0m         \u001b[0;32mif\u001b[0m \u001b[0mioargs\u001b[0m\u001b[0;34m.\u001b[0m\u001b[0mencoding\u001b[0m \u001b[0;32mand\u001b[0m \u001b[0;34m\"b\"\u001b[0m \u001b[0;32mnot\u001b[0m \u001b[0;32min\u001b[0m \u001b[0mioargs\u001b[0m\u001b[0;34m.\u001b[0m\u001b[0mmode\u001b[0m\u001b[0;34m:\u001b[0m\u001b[0;34m\u001b[0m\u001b[0;34m\u001b[0m\u001b[0m\n\u001b[1;32m    858\u001b[0m             \u001b[0;31m# Encoding\u001b[0m\u001b[0;34m\u001b[0m\u001b[0;34m\u001b[0m\u001b[0m\n\u001b[0;32m--> 859\u001b[0;31m             handle = open(\n\u001b[0m\u001b[1;32m    860\u001b[0m                 \u001b[0mhandle\u001b[0m\u001b[0;34m,\u001b[0m\u001b[0;34m\u001b[0m\u001b[0;34m\u001b[0m\u001b[0m\n\u001b[1;32m    861\u001b[0m                 \u001b[0mioargs\u001b[0m\u001b[0;34m.\u001b[0m\u001b[0mmode\u001b[0m\u001b[0;34m,\u001b[0m\u001b[0;34m\u001b[0m\u001b[0;34m\u001b[0m\u001b[0m\n",
            "\u001b[0;31mFileNotFoundError\u001b[0m: [Errno 2] No such file or directory: 'death-rate-in-armed-conflicts.csv'"
          ]
        }
      ]
    },
    {
      "cell_type": "code",
      "source": [
        "import pandas as pd\n",
        "import numpy as np\n",
        "from sklearn.preprocessing import StandardScaler\n",
        "from sklearn.decomposition import PCA\n",
        "import matplotlib.pyplot as plt\n",
        "from sklearn.preprocessing import StandardScaler\n",
        "from sklearn.metrics import mean_squared_error\n",
        "from sklearn.model_selection import train_test_split\n",
        "from sklearn.linear_model import LinearRegression\n",
        "from sklearn.decomposition import PCA\n",
        "from sklearn.pipeline import Pipeline\n",
        "from sklearn.impute import SimpleImputer\n",
        "from sklearn.preprocessing import StandardScaler\n",
        "\n",
        "# Load the data from CSV\n",
        "df = pd.read_csv('final_dataset.csv')  # Replace 'your_data.csv' with your actual CSV file path\n",
        "\n",
        "# Extract labels from the DataFrame\n",
        "labels = df['code']  # Replace 'label_column' with the name of your label column\n",
        "\n",
        "# Exclude label column and any other non-feature columns from PCA\n",
        "X = df.drop(columns=['code','happiness','year'])  # Replace 'non_feature_column1', 'non_feature_column2', etc. with any other non-feature columns\n",
        "\n",
        "\n",
        "data_preprocessing = Pipeline([\n",
        "    ('imputer', SimpleImputer(strategy='mean')),  # Impute missing values using the mean\n",
        "    ('scaler', StandardScaler())  # Scale data\n",
        "])\n",
        "X = data_preprocessing.fit_transform(X)\n",
        "\n",
        "\n",
        "\n",
        "\n",
        "# Apply PCA\n",
        "pca = PCA()  # You can adjust the number of components as needed\n",
        "X_pca = pca.fit_transform(X)\n",
        "\n",
        "# Create a DataFrame with the PCA results\n",
        "pca_df = pd.DataFrame(data=X_pca)\n",
        "\n",
        "principal_components = pca.components_\n",
        "principal_variance = pca.explained_variance_\n",
        "\n",
        "fig = plt.figure(figsize = (15,8))\n",
        "ax1 = fig.add_subplot(3,1,1)\n",
        "ax2 = fig.add_subplot(3,1,2)\n",
        "ax3 = fig.add_subplot(3,1,3)\n",
        "xx = xx = df.drop(columns=['code','happiness','year']).columns.values\n",
        "#plt.bar(np.linspace(0,len(principal_variance),len(principal_variance)),principal_variance)\n",
        "ax1.bar(xx , principal_components[0])\n",
        "#plt.bar(np.linspace(0,len(principal_variance),len(principal_variance)),principal_variance)\n",
        "ax1.bar(xx , principal_components[0])\n",
        "ax2.bar(xx , principal_components[1])\n",
        "ax3.bar(xx , principal_components[2])"
      ],
      "metadata": {
        "id": "2mFHBGob8h_2",
        "colab": {
          "base_uri": "https://localhost:8080/",
          "height": 394
        },
        "outputId": "c94be780-5698-4f00-a014-4e1742b6b6c7"
      },
      "execution_count": null,
      "outputs": [
        {
          "output_type": "execute_result",
          "data": {
            "text/plain": [
              "<BarContainer object of 18 artists>"
            ]
          },
          "metadata": {},
          "execution_count": 84
        },
        {
          "output_type": "display_data",
          "data": {
            "text/plain": [
              "<Figure size 1500x800 with 3 Axes>"
            ],
            "image/png": "[encoded data removed]"
          },
          "metadata": {}
        }
      ]
    },
    {
      "cell_type": "code",
      "source": [],
      "metadata": {
        "id": "3zjjB7KECgtx"
      },
      "execution_count": null,
      "outputs": []
    }
  ]
}